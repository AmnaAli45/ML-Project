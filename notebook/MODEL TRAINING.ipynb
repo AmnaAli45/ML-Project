{
 "cells": [
  {
   "cell_type": "code",
   "execution_count": 2,
   "id": "c9ad1bec-06c3-4704-8bd3-2e3f4d052f1d",
   "metadata": {},
   "outputs": [],
   "source": [
    "import pandas as pd\n",
    "import numpy as np\n",
    "import matplotlib.pyplot as plt\n",
    "import seaborn as sns\n",
    "\n",
    "from sklearn.neighbors import KNeighborsRegressor\n",
    "from sklearn.tree import DecisionTreeRegressor\n",
    "from sklearn.ensemble import RandomForestRegressor,AdaBoostRegressor\n",
    "from sklearn.svm import SVR\n",
    "from sklearn.linear_model import LinearRegression,Ridge,Lasso\n",
    "from sklearn.model_selection import RandomizedSearchCV\n",
    "from sklearn.metrics import mean_absolute_error,mean_squared_error,r2_score\n",
    "from xgboost import XGBRegressor\n",
    "\n"
   ]
  },
  {
   "cell_type": "markdown",
   "id": "24979ad4",
   "metadata": {},
   "source": [
    "# Reading dataset"
   ]
  },
  {
   "cell_type": "code",
   "execution_count": 3,
   "id": "6431e76a",
   "metadata": {},
   "outputs": [
    {
     "name": "stderr",
     "output_type": "stream",
     "text": [
      "<>:1: SyntaxWarning: invalid escape sequence '\\S'\n",
      "<>:1: SyntaxWarning: invalid escape sequence '\\S'\n",
      "C:\\Users\\PMLS\\AppData\\Local\\Temp\\ipykernel_103244\\98796333.py:1: SyntaxWarning: invalid escape sequence '\\S'\n",
      "  df = pd.read_csv('data\\Student Performance new.csv')\n"
     ]
    }
   ],
   "source": [
    "df = pd.read_csv('data\\Student Performance new.csv')\n",
    "df.drop('Unnamed: 0',axis=1,inplace = True)"
   ]
  },
  {
   "cell_type": "code",
   "execution_count": 4,
   "id": "17ecb36b",
   "metadata": {},
   "outputs": [
    {
     "data": {
      "text/html": [
       "<div>\n",
       "<style scoped>\n",
       "    .dataframe tbody tr th:only-of-type {\n",
       "        vertical-align: middle;\n",
       "    }\n",
       "\n",
       "    .dataframe tbody tr th {\n",
       "        vertical-align: top;\n",
       "    }\n",
       "\n",
       "    .dataframe thead th {\n",
       "        text-align: right;\n",
       "    }\n",
       "</style>\n",
       "<table border=\"1\" class=\"dataframe\">\n",
       "  <thead>\n",
       "    <tr style=\"text-align: right;\">\n",
       "      <th></th>\n",
       "      <th>race/ethnicity</th>\n",
       "      <th>parental level of education</th>\n",
       "      <th>lunch</th>\n",
       "      <th>test preparation course</th>\n",
       "      <th>math percentage</th>\n",
       "      <th>reading score percentage</th>\n",
       "      <th>writing score percentage</th>\n",
       "      <th>sex</th>\n",
       "    </tr>\n",
       "  </thead>\n",
       "  <tbody>\n",
       "    <tr>\n",
       "      <th>0</th>\n",
       "      <td>group B</td>\n",
       "      <td>bachelor's degree</td>\n",
       "      <td>standard</td>\n",
       "      <td>none</td>\n",
       "      <td>0.72</td>\n",
       "      <td>0.72</td>\n",
       "      <td>0.74</td>\n",
       "      <td>F</td>\n",
       "    </tr>\n",
       "    <tr>\n",
       "      <th>1</th>\n",
       "      <td>group C</td>\n",
       "      <td>some college</td>\n",
       "      <td>standard</td>\n",
       "      <td>completed</td>\n",
       "      <td>0.69</td>\n",
       "      <td>0.90</td>\n",
       "      <td>0.88</td>\n",
       "      <td>F</td>\n",
       "    </tr>\n",
       "    <tr>\n",
       "      <th>2</th>\n",
       "      <td>group B</td>\n",
       "      <td>master's degree</td>\n",
       "      <td>standard</td>\n",
       "      <td>none</td>\n",
       "      <td>0.90</td>\n",
       "      <td>0.95</td>\n",
       "      <td>0.93</td>\n",
       "      <td>F</td>\n",
       "    </tr>\n",
       "    <tr>\n",
       "      <th>3</th>\n",
       "      <td>group A</td>\n",
       "      <td>associate's degree</td>\n",
       "      <td>free/reduced</td>\n",
       "      <td>none</td>\n",
       "      <td>0.47</td>\n",
       "      <td>0.57</td>\n",
       "      <td>0.44</td>\n",
       "      <td>M</td>\n",
       "    </tr>\n",
       "    <tr>\n",
       "      <th>4</th>\n",
       "      <td>group C</td>\n",
       "      <td>some college</td>\n",
       "      <td>standard</td>\n",
       "      <td>none</td>\n",
       "      <td>0.76</td>\n",
       "      <td>0.78</td>\n",
       "      <td>0.75</td>\n",
       "      <td>M</td>\n",
       "    </tr>\n",
       "  </tbody>\n",
       "</table>\n",
       "</div>"
      ],
      "text/plain": [
       "  race/ethnicity parental level of education         lunch  \\\n",
       "0        group B           bachelor's degree      standard   \n",
       "1        group C                some college      standard   \n",
       "2        group B             master's degree      standard   \n",
       "3        group A          associate's degree  free/reduced   \n",
       "4        group C                some college      standard   \n",
       "\n",
       "  test preparation course  math percentage  reading score percentage  \\\n",
       "0                    none             0.72                      0.72   \n",
       "1               completed             0.69                      0.90   \n",
       "2                    none             0.90                      0.95   \n",
       "3                    none             0.47                      0.57   \n",
       "4                    none             0.76                      0.78   \n",
       "\n",
       "   writing score percentage sex  \n",
       "0                      0.74   F  \n",
       "1                      0.88   F  \n",
       "2                      0.93   F  \n",
       "3                      0.44   M  \n",
       "4                      0.75   M  "
      ]
     },
     "execution_count": 4,
     "metadata": {},
     "output_type": "execute_result"
    }
   ],
   "source": [
    "df.head()"
   ]
  },
  {
   "cell_type": "markdown",
   "id": "7f982f60",
   "metadata": {},
   "source": [
    "# Separating dependent and independent variables"
   ]
  },
  {
   "cell_type": "code",
   "execution_count": 5,
   "id": "56e60e87",
   "metadata": {},
   "outputs": [],
   "source": [
    "x=df.drop(columns=[\"math percentage\"],axis = 1) # independent variables"
   ]
  },
  {
   "cell_type": "code",
   "execution_count": 6,
   "id": "18a79d24",
   "metadata": {},
   "outputs": [],
   "source": [
    "y=df[\"math percentage\"] # dependent variables"
   ]
  },
  {
   "cell_type": "markdown",
   "id": "57f3029e",
   "metadata": {},
   "source": [
    "# Separating data into train and test"
   ]
  },
  {
   "cell_type": "code",
   "execution_count": 17,
   "id": "3ce974ec",
   "metadata": {},
   "outputs": [],
   "source": [
    "from sklearn.model_selection import train_test_split\n",
    "\n",
    "X_train, X_test, Y_train, Y_test = train_test_split(x,y,random_state=42,test_size=0.2)"
   ]
  },
  {
   "cell_type": "markdown",
   "id": "702869e4",
   "metadata": {},
   "source": [
    "# Transforming independent variables"
   ]
  },
  {
   "cell_type": "code",
   "execution_count": 9,
   "id": "234e1922",
   "metadata": {},
   "outputs": [],
   "source": [
    "# separating numeric and categorical features\n",
    "features = x.columns\n",
    "num_features =[]\n",
    "cat_features = []\n",
    "for features in features:\n",
    "    if df[features].dtype !='O':\n",
    "        num_features.append(features)\n",
    "    else:\n",
    "        cat_features.append(features)\n",
    "\n",
    "# applying transformations\n",
    "from sklearn.preprocessing import OneHotEncoder,StandardScaler\n",
    "from sklearn.compose import ColumnTransformer\n",
    "\n",
    "ohe = OneHotEncoder()\n",
    "std_scaler = StandardScaler()\n",
    "clt =ColumnTransformer([\n",
    "    (\"OneHotEncoder\",ohe,cat_features),\n",
    "    (\"StandardScaler\",std_scaler,num_features)\n",
    "]\n",
    ") \n"
   ]
  },
  {
   "cell_type": "code",
   "execution_count": 20,
   "id": "03019270",
   "metadata": {},
   "outputs": [],
   "source": [
    "X_train_tranformed=clt.fit_transform(X_train)\n",
    "X_test_tranformed=clt.transform(X_test)\n",
    "\n"
   ]
  },
  {
   "cell_type": "markdown",
   "id": "795b552d",
   "metadata": {},
   "source": [
    "# Creating an Evaluation function"
   ]
  },
  {
   "cell_type": "code",
   "execution_count": 18,
   "id": "11cc9803",
   "metadata": {},
   "outputs": [],
   "source": [
    "def eval_func(Y_test,Y_pred):\n",
    "    mae=mean_absolute_error(Y_test,Y_pred)\n",
    "    mse=mean_squared_error(Y_test,Y_pred)\n",
    "    rmse=np.sqrt(mse)\n",
    "    r2_square = r2_score(Y_test,Y_pred)\n",
    "    return mae,mse,rmse,r2_square\n"
   ]
  },
  {
   "cell_type": "code",
   "execution_count": 32,
   "id": "d25da4ef",
   "metadata": {},
   "outputs": [
    {
     "name": "stdout",
     "output_type": "stream",
     "text": [
      "----------------- Linear Regression ------------------\n",
      "Model Performance for training data\n",
      "mae : 0.042667118460719584\n",
      "mse : 0.002833487038064859\n",
      "rmse : 0.053230508527205136\n",
      "r2score : 0.8743172040139593\n",
      ".........................................................................................\n",
      "Model Performance for testing data\n",
      "mae : 0.04214763142474851\n",
      "mse : 0.0029095169866715496\n",
      "rmse : 0.05393993869732844\n",
      "r2score : 0.8804332983749564\n",
      "----------------- lasso ------------------\n",
      "Model Performance for training data\n",
      "mae : 0.11947471875\n",
      "mse : 0.022544748593749997\n",
      "rmse : 0.150149087888505\n",
      "r2score : 0.0\n",
      ".........................................................................................\n",
      "Model Performance for testing data\n",
      "mae : 0.12339849999999998\n",
      "mse : 0.02474847140625\n",
      "rmse : 0.15731646896065904\n",
      "r2score : -0.01703929204145327\n",
      "----------------- ridge ------------------\n",
      "Model Performance for training data\n",
      "mae : 0.04265005112727169\n",
      "mse : 0.002833774179108889\n",
      "rmse : 0.053233205606171126\n",
      "r2score : 0.8743044675204545\n",
      ".........................................................................................\n",
      "Model Performance for testing data\n",
      "mae : 0.04211112826071164\n",
      "mse : 0.0029056601626694795\n",
      "rmse : 0.05390417574427309\n",
      "r2score : 0.8805917946912827\n",
      "----------------- KNN ------------------\n",
      "Model Performance for training data\n",
      "mae : 0.04505750000000001\n",
      "mse : 0.0032464950000000003\n",
      "rmse : 0.056978022078692764\n",
      "r2score : 0.8559977288502558\n",
      ".........................................................................................\n",
      "Model Performance for testing data\n",
      "mae : 0.055630000000000006\n",
      "mse : 0.00518418\n",
      "rmse : 0.07200124998914949\n",
      "r2score : 0.7869559428351629\n",
      "----------------- Decision Tree ------------------\n",
      "Model Performance for training data\n",
      "mae : 0.00018750000000000006\n",
      "mse : 7.812500000000002e-06\n",
      "rmse : 0.0027950849718747376\n",
      "r2score : 0.9996534669718089\n",
      ".........................................................................................\n",
      "Model Performance for testing data\n",
      "mae : 0.06295\n",
      "mse : 0.0060275\n",
      "rmse : 0.07763697572677596\n",
      "r2score : 0.7522996781436879\n",
      "----------------- Random Forest ------------------\n",
      "Model Performance for training data\n",
      "mae : 0.018264375000000062\n",
      "mse : 0.0005281712467013908\n",
      "rmse : 0.02298197656211038\n",
      "r2score : 0.9765723159650663\n",
      ".........................................................................................\n",
      "Model Performance for testing data\n",
      "mae : 0.046237541666666694\n",
      "mse : 0.00357468178506945\n",
      "rmse : 0.059788642609357255\n",
      "r2score : 0.8530983278812777\n",
      "----------------- XG Boost ------------------\n",
      "Model Performance for training data\n",
      "mae : 0.006593236986920237\n",
      "mse : 9.231806470839276e-05\n",
      "rmse : 0.009608229009988926\n",
      "r2score : 0.9959051189094215\n",
      ".........................................................................................\n",
      "Model Performance for testing data\n",
      "mae : 0.050885243743658076\n",
      "mse : 0.004254521607480232\n",
      "rmse : 0.06522669397938417\n",
      "r2score : 0.8251602867660743\n",
      "----------------- AdaBoost Regressor ------------------\n",
      "Model Performance for training data\n",
      "mae : 0.047044571840813204\n",
      "mse : 0.0033130853052763575\n",
      "rmse : 0.05755940674882219\n",
      "r2score : 0.8530440341129005\n",
      ".........................................................................................\n",
      "Model Performance for testing data\n",
      "mae : 0.04689870300193572\n",
      "mse : 0.0036375236871634786\n",
      "rmse : 0.060311886781657546\n",
      "r2score : 0.8505158377320029\n"
     ]
    }
   ],
   "source": [
    "models = {\n",
    "    \"Linear Regression\": LinearRegression(),\n",
    "    \"lasso\" : Lasso(),\n",
    "    \"ridge\" : Ridge(),\n",
    "    \"KNN\" : KNeighborsRegressor(),\n",
    "    \"Decision Tree\" : DecisionTreeRegressor(),\n",
    "    \"Random Forest\" : RandomForestRegressor(),\n",
    "    \"XG Boost\" : XGBRegressor(),\n",
    "    \"AdaBoost Regressor\" : AdaBoostRegressor()\n",
    "}\n",
    "model_list = []\n",
    "r2_list = []\n",
    "results = []\n",
    "\n",
    "for name,model in models.items():\n",
    "    model.fit(X_train_tranformed,Y_train) # model training\n",
    "\n",
    "    # Make predictions\n",
    "    y_train_pred = model.predict(X_train_tranformed)\n",
    "    y_test_pred = model.predict(X_test_tranformed)\n",
    "\n",
    "    # Evaluating the model\n",
    "    train_mae , train_mse , train_rmse , train_r2score = eval_func(Y_train,y_train_pred)\n",
    "    test_mae , test_mse , test_rmse , test_r2score = eval_func(Y_test,y_test_pred)\n",
    "\n",
    "    model_list.append(name)\n",
    "    r2_list.append(test_r2score)\n",
    "   \n",
    "    results.append({\n",
    "        \"Model\" : name,\n",
    "        \"training r2_score\" : train_r2score,\n",
    "        \"testing r2_score\" :test_r2score\n",
    "    })\n",
    "\n",
    "    print(f\"----------------- {name} ------------------\")\n",
    "    print(\"Model Performance for training data\")\n",
    "    print(f\"mae : {train_mae}\")\n",
    "    print(f\"mse : {train_mse}\")\n",
    "    print(f\"rmse : {train_rmse}\")\n",
    "    print(f\"r2score : {train_r2score}\")\n",
    "\n",
    "    print(\".........................................................................................\")\n",
    "    print(\"Model Performance for testing data\")\n",
    "    print(f\"mae : {test_mae}\")\n",
    "    print(f\"mse : {test_mse}\")\n",
    "    print(f\"rmse : {test_rmse}\")\n",
    "    print(f\"r2score : {test_r2score}\")\n",
    "\n",
    "\n",
    "\n",
    "\n",
    "\n"
   ]
  },
  {
   "cell_type": "code",
   "execution_count": 33,
   "id": "279b5e3e",
   "metadata": {},
   "outputs": [
    {
     "name": "stdout",
     "output_type": "stream",
     "text": [
      "                Model  training r2_score  testing r2_score\n",
      "2               ridge           0.874304          0.880592\n",
      "0   Linear Regression           0.874317          0.880433\n",
      "5       Random Forest           0.976572          0.853098\n",
      "7  AdaBoost Regressor           0.853044          0.850516\n",
      "6            XG Boost           0.995905          0.825160\n",
      "3                 KNN           0.855998          0.786956\n",
      "4       Decision Tree           0.999653          0.752300\n",
      "1               lasso           0.000000         -0.017039\n"
     ]
    }
   ],
   "source": [
    "# converting result into data frame\n",
    "results_df = pd.DataFrame(results)\n",
    "#Sorting data frame in descending order w.r.t. r2score\n",
    "results_df = results_df.sort_values(by = \"testing r2_score\",ascending=False)\n",
    "print(results_df)"
   ]
  },
  {
   "cell_type": "markdown",
   "id": "b297ec6b",
   "metadata": {},
   "source": [
    "# Linear Regression"
   ]
  },
  {
   "cell_type": "code",
   "execution_count": 36,
   "id": "f196fac9",
   "metadata": {},
   "outputs": [
    {
     "name": "stdout",
     "output_type": "stream",
     "text": [
      "Accuracy of the model is:  88.04332983749565\n"
     ]
    }
   ],
   "source": [
    "lr = LinearRegression()\n",
    "lr.fit(X_train_tranformed,Y_train)\n",
    "y_pred = lr.predict(X_test_tranformed)\n",
    "score = r2_score(Y_test,y_pred) * 100\n",
    "print(\"Accuracy of the model is: \", score)"
   ]
  },
  {
   "cell_type": "markdown",
   "id": "fca9108e",
   "metadata": {},
   "source": [
    "# Plot y_predict and y_test"
   ]
  },
  {
   "cell_type": "code",
   "execution_count": 37,
   "id": "f6eaf812",
   "metadata": {},
   "outputs": [
    {
     "data": {
      "image/png": "[encoded data removed]",
      "text/plain": [
       "<Figure size 640x480 with 1 Axes>"
      ]
     },
     "metadata": {},
     "output_type": "display_data"
    }
   ],
   "source": [
    "plt.scatter(Y_test,y_pred,color=\"purple\")\n",
    "plt.xlabel(\"Actual values\")\n",
    "plt.xlabel(\"predicted values\")\n",
    "plt.show()\n"
   ]
  },
  {
   "cell_type": "markdown",
   "id": "61b5ae85",
   "metadata": {},
   "source": [
    "# Difference between actual and predicted values"
   ]
  },
  {
   "cell_type": "code",
   "execution_count": 42,
   "id": "674952c8",
   "metadata": {},
   "outputs": [
    {
     "name": "stdout",
     "output_type": "stream",
     "text": [
      "     Actual Value  Predicted Values  Difference\n",
      "521          0.91          0.763880    0.146120\n",
      "737          0.53          0.588860   -0.058860\n",
      "740          0.80          0.769903    0.030097\n",
      "660          0.74          0.768518   -0.028518\n",
      "411          0.84          0.876274   -0.036274\n",
      "..            ...               ...         ...\n",
      "408          0.52          0.434091    0.085909\n",
      "332          0.62          0.621522   -0.001522\n",
      "208          0.74          0.678884    0.061116\n",
      "613          0.65          0.670223   -0.020223\n",
      "78           0.61          0.623451   -0.013451\n",
      "\n",
      "[200 rows x 3 columns]\n"
     ]
    }
   ],
   "source": [
    "pred_df=pd.DataFrame( {\n",
    "    \"Actual Value\" : Y_test ,\n",
    "    \"Predicted Values\" : y_pred ,\n",
    "    \"Difference\" : Y_test - y_pred\n",
    "}\n",
    ")\n",
    "\n",
    "print(pred_df)"
   ]
  }
 ],
 "metadata": {
  "kernelspec": {
   "display_name": "Python 3",
   "language": "python",
   "name": "python3"
  },
  "language_info": {
   "codemirror_mode": {
    "name": "ipython",
    "version": 3
   },
   "file_extension": ".py",
   "mimetype": "text/x-python",
   "name": "python",
   "nbconvert_exporter": "python",
   "pygments_lexer": "ipython3",
   "version": "3.12.0"
  }
 },
 "nbformat": 4,
 "nbformat_minor": 5
}
